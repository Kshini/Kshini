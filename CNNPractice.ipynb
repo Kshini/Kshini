{
  "nbformat": 4,
  "nbformat_minor": 0,
  "metadata": {
    "colab": {
      "provenance": [],
      "gpuType": "T4",
      "authorship_tag": "ABX9TyNTJ5VI0hHPKbrBCv0Hw9WR",
      "include_colab_link": true
    },
    "kernelspec": {
      "name": "python3",
      "display_name": "Python 3"
    },
    "language_info": {
      "name": "python"
    },
    "accelerator": "GPU"
  },
  "cells": [
    {
      "cell_type": "markdown",
      "metadata": {
        "id": "view-in-github",
        "colab_type": "text"
      },
      "source": [
        "<a href=\"https://colab.research.google.com/github/NateGrasso/Kshini/blob/main/CNNPractice.ipynb\" target=\"_parent\"><img src=\"https://colab.research.google.com/assets/colab-badge.svg\" alt=\"Open In Colab\"/></a>"
      ]
    },
    {
      "cell_type": "markdown",
      "source": [
        "##Installation"
      ],
      "metadata": {
        "id": "8hVsktL8J6q1"
      }
    },
    {
      "cell_type": "code",
      "source": [
        "!pip install -q tensorflow tensorflow-datasets\n",
        "!pip install --upgrade tensorflow-datasets"
      ],
      "metadata": {
        "id": "vBQYqt06J_0a"
      },
      "execution_count": null,
      "outputs": []
    },
    {
      "cell_type": "markdown",
      "source": [
        "##Import Necessary Libraries"
      ],
      "metadata": {
        "id": "2hcfxVoyKQdl"
      }
    },
    {
      "cell_type": "code",
      "source": [
        "import matplotlib.pyplot as plt\n",
        "import numpy as np\n",
        "\n",
        "import tensorflow as tf\n",
        "import tensorflow_datasets as tfds\n",
        "\n",
        "from tensorflow import keras as keras"
      ],
      "metadata": {
        "id": "7-3fRCQaKYnI"
      },
      "execution_count": 3,
      "outputs": []
    },
    {
      "cell_type": "markdown",
      "source": [
        "##Find data **sets**"
      ],
      "metadata": {
        "id": "IXYjK70jPn9Q"
      }
    },
    {
      "cell_type": "code",
      "source": [
        "tfds.list_builders()"
      ],
      "metadata": {
        "id": "YaZbbzJOPsCZ"
      },
      "execution_count": null,
      "outputs": []
    },
    {
      "cell_type": "markdown",
      "source": [
        "##Get information on the data"
      ],
      "metadata": {
        "id": "w-HQIclnP3Ar"
      }
    },
    {
      "cell_type": "code",
      "source": [
        "builder = tfds.builder('rock_paper_scissors')\n",
        "info = builder.info\n",
        "\n",
        "info"
      ],
      "metadata": {
        "id": "KrNaDcPfP7F6"
      },
      "execution_count": null,
      "outputs": []
    },
    {
      "cell_type": "markdown",
      "source": [
        "##Prepare Rock, Paper, Scissors Data"
      ],
      "metadata": {
        "id": "5naz2VcCQOKc"
      }
    },
    {
      "cell_type": "code",
      "source": [
        "ds_train = tfds.load(name=\"rock_paper_scissors\", split = \"train\")\n",
        "ds_test = tfds.load(name=\"rock_paper_scissors\", split = \"test\")"
      ],
      "metadata": {
        "id": "2zi-A3KRQSU9"
      },
      "execution_count": null,
      "outputs": []
    },
    {
      "cell_type": "markdown",
      "source": [
        "##Visualize the image data"
      ],
      "metadata": {
        "id": "O9gaUJvhQxRy"
      }
    },
    {
      "cell_type": "code",
      "source": [
        "##fig = tfds.show_examples(info, ds_train)"
      ],
      "metadata": {
        "id": "sWSnv7SKQ0N4"
      },
      "execution_count": null,
      "outputs": []
    },
    {
      "cell_type": "markdown",
      "source": [
        "## Additionall Data Prep"
      ],
      "metadata": {
        "id": "fD1jnmKGUNKp"
      }
    },
    {
      "cell_type": "code",
      "source": [
        "train_images = np.array([example['image'].numpy()[:,:,0] for example in ds_train])\n",
        "train_labels = np.array([example['label'].numpy() for example in ds_train])\n",
        "\n",
        "test_images = np.array([example['image'].numpy()[:,:,0] for example in ds_test])\n",
        "test_labels = np.array([example['label'].numpy() for example in ds_test])"
      ],
      "metadata": {
        "id": "s8paTyASUTbc"
      },
      "execution_count": 7,
      "outputs": []
    },
    {
      "cell_type": "code",
      "source": [
        "train_images = train_images.reshape(2520, 300, 300, 1)\n",
        "test_images = test_images.reshape(372, 300, 300, 1)\n",
        "\n",
        "train_images = train_images.astype('float32')\n",
        "test_images = test_images.astype('float32')\n",
        "\n",
        "train_images /= 255\n",
        "test_images /= 255"
      ],
      "metadata": {
        "id": "hkwL--OHU1KH"
      },
      "execution_count": 8,
      "outputs": []
    },
    {
      "cell_type": "markdown",
      "source": [
        "##Train a network (basic approach)"
      ],
      "metadata": {
        "id": "sM4WvQDeXI3H"
      }
    },
    {
      "cell_type": "code",
      "source": [
        "model = keras.Sequential([\n",
        "    keras.layers.Flatten(),\n",
        "    keras.layers.Dense(512, activation='relu'),\n",
        "    keras.layers.Dense(256, activation='relu'),\n",
        "    keras.layers.Dense(3, activation='softmax')\n",
        "])\n",
        "\n",
        "model.compile(optimizer='adam',\n",
        "              loss=keras.losses.SparseCategoricalCrossentropy(),\n",
        "              metrics=['accuracy'])\n",
        "\n",
        "model.fit(train_images, train_labels, epochs=5, batch_size=32)"
      ],
      "metadata": {
        "id": "zI2J2EXpXMHQ"
      },
      "execution_count": null,
      "outputs": []
    },
    {
      "cell_type": "code",
      "source": [
        "model.evaluate(test_images, test_labels)"
      ],
      "metadata": {
        "id": "r13WohhzM-Dy"
      },
      "execution_count": null,
      "outputs": []
    },
    {
      "cell_type": "markdown",
      "source": [
        "##Train a Network (convolutional approach)"
      ],
      "metadata": {
        "id": "bHe6qFfvP4I2"
      }
    },
    {
      "cell_type": "code",
      "source": [
        "model = keras.Sequential([\n",
        "    keras.layers.Conv2D(64, 3, activation='relu', input_shape=(300,300,1)),\n",
        "    keras.layers.Conv2D(32,3, activation='relu'),\n",
        "    keras.layers.Flatten(),\n",
        "    keras.layers.Dense(3, activation='softmax')\n",
        "])\n",
        "\n",
        "model.compile(optimizer='adam',\n",
        "              loss=keras.losses.SparseCategoricalCrossentropy(),\n",
        "              metrics=['accuracy'])\n",
        "\n",
        "model.fit(train_images, train_labels, epochs=5, batch_size=32)"
      ],
      "metadata": {
        "id": "ssux376FP9iF"
      },
      "execution_count": null,
      "outputs": []
    },
    {
      "cell_type": "code",
      "source": [
        "model.evaluate(test_images, test_labels)"
      ],
      "metadata": {
        "id": "q_GQj9X4RUP4"
      },
      "execution_count": null,
      "outputs": []
    },
    {
      "cell_type": "markdown",
      "source": [
        "##A Better Convolutional Network (mitigate overfitting problem)"
      ],
      "metadata": {
        "id": "kK9glZLQUm6P"
      }
    },
    {
      "cell_type": "code",
      "source": [
        "model = keras.Sequential([\n",
        "    keras.layers.AveragePooling2D(6, 3, input_shape=(300,300,1)),\n",
        "    keras.layers.Conv2D(64, 3, activation='relu'),\n",
        "    keras.layers.Conv2D(32, 3, activation='relu'),\n",
        "    keras.layers.MaxPool2D(2,2),\n",
        "    #keras.layers.Dropout(0.5),\n",
        "    keras.layers.Flatten(),\n",
        "    #keras.layers.Dense(128, activation='relu'),\n",
        "    keras.layers.Dense(3, activation='softmax')\n",
        "])\n",
        "\n",
        "model.compile(optimizer='adam',\n",
        "              loss=keras.losses.SparseCategoricalCrossentropy(),\n",
        "              metrics=['accuracy'])\n",
        "\n",
        "model.fit(train_images, train_labels, epochs=5, batch_size=32)"
      ],
      "metadata": {
        "id": "T2ZTNJrXUsHj"
      },
      "execution_count": null,
      "outputs": []
    },
    {
      "cell_type": "code",
      "source": [
        "model.evaluate(test_images, test_labels)"
      ],
      "metadata": {
        "id": "b-3H0O3kgwDm"
      },
      "execution_count": null,
      "outputs": []
    },
    {
      "cell_type": "markdown",
      "source": [
        "##Hyperparameter Tuning"
      ],
      "metadata": {
        "id": "cB4ausjWg_P2"
      }
    },
    {
      "cell_type": "code",
      "source": [
        "pip install -U keras-tuner"
      ],
      "metadata": {
        "id": "brNwkrq9iL4N"
      },
      "execution_count": null,
      "outputs": []
    },
    {
      "cell_type": "code",
      "source": [
        "from kerastuner.tuners import RandomSearch\n",
        "\n",
        "def build_model(hp):\n",
        "  model = keras.Sequential()\n",
        "\n",
        "  model.add(keras.layers.AveragePooling2D(6, 3, input_shape=(300,300,1)))\n",
        "\n",
        "  model.add(keras.layers.Conv2D(64, 3, activation='relu'))\n",
        "  model.add(keras.layers.Conv2D(32, 3, activation='relu'))\n",
        "\n",
        "  model.add(keras.layers.MaxPool2D(2,2))\n",
        "  model.add(keras.layers.Dropout(0.5))\n",
        "  model.add(keras.layers.Flatten())\n",
        "\n",
        "  model.add(keras.layers.Dense(hp.Choice(\"Dense layer\",[64, 128, 256, 512, 1024]), activation='relu'))\n",
        "\n",
        "  model.add(keras.layers.Dense(3, activation='softmax'))\n",
        "\n",
        "  model.compile(optimizer='adam',\n",
        "              loss=keras.losses.SparseCategoricalCrossentropy(),\n",
        "              metrics=['accuracy'])\n",
        "\n",
        "  return model\n",
        "\n",
        "tuner = RandomSearch(\n",
        "    build_model,\n",
        "    objective='val_accuracy',\n",
        "    max_trials=32,\n",
        ")\n",
        "\n",
        "tuner.search(train_images, train_labels, validation_data=(test_images, test_labels), epochs=10, batch_size=32)\n"
      ],
      "metadata": {
        "id": "iAMLCvJwitZE"
      },
      "execution_count": null,
      "outputs": []
    },
    {
      "cell_type": "code",
      "source": [
        "best_model = tuner.get_best_models()[0]"
      ],
      "metadata": {
        "id": "km4jw7n62R7q"
      },
      "execution_count": 11,
      "outputs": []
    },
    {
      "cell_type": "code",
      "source": [
        "best_model.evaluate(test_images, test_labels)"
      ],
      "metadata": {
        "id": "zIe3Lcki2aQM"
      },
      "execution_count": null,
      "outputs": []
    },
    {
      "cell_type": "code",
      "source": [
        "best_model.summary()"
      ],
      "metadata": {
        "id": "RDv_VuDF26Jq"
      },
      "execution_count": null,
      "outputs": []
    },
    {
      "cell_type": "code",
      "source": [
        "tuner.results_summary()"
      ],
      "metadata": {
        "id": "DcX8Nibr29rf"
      },
      "execution_count": null,
      "outputs": []
    },
    {
      "cell_type": "markdown",
      "source": [
        "##Save and Load our Models"
      ],
      "metadata": {
        "id": "hv-qTUz14Skh"
      }
    },
    {
      "cell_type": "code",
      "source": [
        "best_model.save('./my_model')"
      ],
      "metadata": {
        "id": "lio9C7EV4Wy9"
      },
      "execution_count": 17,
      "outputs": []
    },
    {
      "cell_type": "code",
      "source": [
        "loaded_model = keras.models.load_model('./my_model')"
      ],
      "metadata": {
        "id": "01ficDmZ4d6a"
      },
      "execution_count": 18,
      "outputs": []
    },
    {
      "cell_type": "code",
      "source": [
        "loaded_model.evaluate(test_images, test_labels)"
      ],
      "metadata": {
        "id": "KTxqmmUF4pOC"
      },
      "execution_count": null,
      "outputs": []
    },
    {
      "cell_type": "code",
      "source": [
        "image = train_images[0].reshape(300,300)\n",
        "\n",
        "plt.imshow(train_images[0], cmap='Greys_r')\n"
      ],
      "metadata": {
        "id": "1cl7ARm54zRs"
      },
      "execution_count": null,
      "outputs": []
    },
    {
      "cell_type": "markdown",
      "source": [
        "##Convert PNG/JPG images to Numpy Format"
      ],
      "metadata": {
        "id": "xgnT69aU5oBB"
      }
    },
    {
      "cell_type": "code",
      "source": [
        "import imageio"
      ],
      "metadata": {
        "id": "UwIqv-GO5ssN"
      },
      "execution_count": null,
      "outputs": []
    }
  ]
}